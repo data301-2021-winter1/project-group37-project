{
 "cells": [
  {
   "cell_type": "code",
   "execution_count": 1,
   "id": "bf5e4b3d-5ed4-4aa8-951a-254b2373f7db",
   "metadata": {},
   "outputs": [],
   "source": [
    "import pandas as pd\n",
    "import numpy as np\n",
    "import seaborn as sns\n",
    "import matplotlib.pyplot as plt"
   ]
  },
  {
   "cell_type": "code",
   "execution_count": 10,
   "id": "8d3310da-944f-4ea3-82ac-aaa7f17ba244",
   "metadata": {},
   "outputs": [
    {
     "data": {
      "text/plain": [
       "<bound method NDFrame.head of       playerID  yearID  stint teamID lgID  G  AB  R  H  2B  ...  RBI   SB  \\\n",
       "0    aitchra01    1911      1    BRO   NL  1   0  0  0   0  ...  0.0  0.0   \n",
       "1    camniha01    1911      1    SLN   NL  2   0  0  0   0  ...  0.0  0.0   \n",
       "2    cottren01    1911      1    PIT   NL  1   0  0  0   0  ...  0.0  0.0   \n",
       "3    griffha01    1911      1    CHN   NL  1   0  0  0   0  ...  0.0  0.0   \n",
       "4    pucketr01    1911      1    PHI   NL  1   0  0  0   0  ...  0.0  0.0   \n",
       "..         ...     ...    ...    ...  ... ..  .. .. ..  ..  ...  ...  ...   \n",
       "654  shouncl01    1949      1    BSN   NL  1   0  0  0   0  ...  0.0  0.0   \n",
       "655  suthedi01    1949      1    WS1   AL  1   0  0  0   0  ...  0.0  0.0   \n",
       "656  vancujo01    1949      1    BRO   NL  2   0  0  0   0  ...  0.0  0.0   \n",
       "657  wittijo01    1949      1    BOS   AL  1   0  0  0   0  ...  0.0  0.0   \n",
       "658  yochira01    1949      1    SLN   NL  3   0  0  0   0  ...  0.0  0.0   \n",
       "\n",
       "      CS  BB   SO  IBB  HBP   SH   SF  GIDP  \n",
       "0    0.0   0  0.0  0.0  0.0  0.0  0.0   0.0  \n",
       "1    0.0   0  0.0  0.0  0.0  0.0  0.0   0.0  \n",
       "2    0.0   0  0.0  0.0  0.0  0.0  0.0   0.0  \n",
       "3    0.0   0  0.0  0.0  0.0  0.0  0.0   0.0  \n",
       "4    0.0   0  0.0  0.0  0.0  0.0  0.0   0.0  \n",
       "..   ...  ..  ...  ...  ...  ...  ...   ...  \n",
       "654  0.0   0  0.0  0.0  0.0  0.0  0.0   0.0  \n",
       "655  0.0   0  0.0  0.0  0.0  0.0  0.0   0.0  \n",
       "656  0.0   0  0.0  0.0  0.0  0.0  0.0   0.0  \n",
       "657  0.0   0  0.0  0.0  0.0  0.0  0.0   0.0  \n",
       "658  0.0   0  0.0  0.0  0.0  0.0  0.0   0.0  \n",
       "\n",
       "[659 rows x 22 columns]>"
      ]
     },
     "execution_count": 10,
     "metadata": {},
     "output_type": "execute_result"
    }
   ],
   "source": [
    "old_games = (\n",
    "\n",
    "    pd.read_csv('/Users/jessicagale/project-group37-project/data/raw/Batting.csv')\n",
    "    .dropna()\n",
    "    .reset_index(drop=True)\n",
    "    .loc[lambda x: x['yearID'] < 1950]\n",
    ")\n",
    "old_games.head"
   ]
  },
  {
   "cell_type": "code",
   "execution_count": 11,
   "id": "576a6c2a-94bd-46a8-b896-a6259393aac6",
   "metadata": {},
   "outputs": [
    {
     "data": {
      "text/plain": [
       "<bound method NDFrame.head of         playerID  yearID  stint teamID lgID   G   AB   R   H  2B  ...   RBI  \\\n",
       "43970   abadan01    2001      1    OAK   AL   1    1   0   0   0  ...   0.0   \n",
       "43971  abbotje01    2001      1    FLO   NL  28   42   5  11   3  ...   5.0   \n",
       "43972  abbotku01    2001      1    ATL   NL   6    9   0   2   0  ...   0.0   \n",
       "43973  abbotpa01    2001      1    SEA   AL  28    4   0   1   0  ...   0.0   \n",
       "43974  abernbr01    2001      1    TBA   AL  79  304  43  82  17  ...  33.0   \n",
       "...          ...     ...    ...    ...  ...  ..  ...  ..  ..  ..  ...   ...   \n",
       "72105  zimmebr02    2020      1    BAL   AL   2    0   0   0   0  ...   0.0   \n",
       "72106  zimmejo02    2020      1    DET   AL   3    0   0   0   0  ...   0.0   \n",
       "72107  zimmeky01    2020      1    KCA   AL  16    0   0   0   0  ...   0.0   \n",
       "72108  zuberty01    2020      1    KCA   AL  23    0   0   0   0  ...   0.0   \n",
       "72109  zuninmi01    2020      1    TBA   AL  28   75   8  11   4  ...  10.0   \n",
       "\n",
       "        SB   CS  BB    SO  IBB  HBP   SH   SF  GIDP  \n",
       "43970  0.0  0.0   0   0.0  0.0  0.0  0.0  0.0   0.0  \n",
       "43971  0.0  0.0   3   7.0  0.0  1.0  0.0  0.0   1.0  \n",
       "43972  1.0  0.0   0   3.0  0.0  0.0  0.0  0.0   0.0  \n",
       "43973  0.0  0.0   0   1.0  0.0  0.0  1.0  0.0   0.0  \n",
       "43974  8.0  3.0  27  35.0  1.0  0.0  3.0  1.0   3.0  \n",
       "...    ...  ...  ..   ...  ...  ...  ...  ...   ...  \n",
       "72105  0.0  0.0   0   0.0  0.0  0.0  0.0  0.0   0.0  \n",
       "72106  0.0  0.0   0   0.0  0.0  0.0  0.0  0.0   0.0  \n",
       "72107  0.0  0.0   0   0.0  0.0  0.0  0.0  0.0   0.0  \n",
       "72108  0.0  0.0   0   0.0  0.0  0.0  0.0  0.0   0.0  \n",
       "72109  0.0  0.0   6  37.0  0.0  3.0  0.0  0.0   0.0  \n",
       "\n",
       "[28140 rows x 22 columns]>"
      ]
     },
     "execution_count": 11,
     "metadata": {},
     "output_type": "execute_result"
    }
   ],
   "source": [
    "new_games = (\n",
    "\n",
    "    pd.read_csv('/Users/jessicagale/project-group37-project/data/raw/Batting.csv')\n",
    "    .dropna()\n",
    "    .reset_index(drop=True)\n",
    "    .loc[lambda x: x['yearID'] > 2000]\n",
    ")\n",
    "new_games.head\n"
   ]
  },
  {
   "cell_type": "code",
   "execution_count": null,
   "id": "9078b446-8d4b-42bb-a2fd-f75df6727a4d",
   "metadata": {},
   "outputs": [],
   "source": []
  }
 ],
 "metadata": {
  "kernelspec": {
   "display_name": "Python 3",
   "language": "python",
   "name": "python3"
  },
  "language_info": {
   "codemirror_mode": {
    "name": "ipython",
    "version": 3
   },
   "file_extension": ".py",
   "mimetype": "text/x-python",
   "name": "python",
   "nbconvert_exporter": "python",
   "pygments_lexer": "ipython3",
   "version": "3.9.5"
  }
 },
 "nbformat": 4,
 "nbformat_minor": 5
}
