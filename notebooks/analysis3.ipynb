{
 "cells": [
  {
   "cell_type": "markdown",
   "source": [
    "# Jessica Gale\n"
   ],
   "metadata": {}
  },
  {
   "cell_type": "markdown",
   "source": [
    "## What was the batting average?\n",
    "\n",
    "I have always been interested in sports growing up. I have played soccer, field hockey, and basketball, as well as I coached soccer for two years at my high school. I do enjoy watching baseball which is why I am interested in pursuing this topic on Baseball. I watch the Toronto Blue Jays games fairly often as my partner is a big sports guy! I liked this dataset specifically because its up to date and has data from 2020. I have decided to look into the batting average in 2020 across the teams or just one team in the dataset. Once I get more familiar with the dataset, I may tweak my question a bit so I am able to answer it. This dataset is quite large, so I also may need to narrow down my question to make it attainable. Overall, I am excited that our dataset is on a topic of interest, as sports are a big part of my life!"
   ],
   "metadata": {}
  }
 ],
 "metadata": {
  "orig_nbformat": 4,
  "language_info": {
   "name": "plaintext"
  }
 },
 "nbformat": 4,
 "nbformat_minor": 2
}
