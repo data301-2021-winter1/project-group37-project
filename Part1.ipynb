{
 "cells": [
  {
   "cell_type": "code",
   "execution_count": 32,
   "id": "eeec917c-656a-4f4c-a28d-e9aa3d7c363f",
   "metadata": {},
   "outputs": [
    {
     "name": "stdout",
     "output_type": "stream",
     "text": [
      "         playerID  yearID  stint teamID lgID   G   AB   R   H  2B  ...   RBI  \\\n",
      "0       abercda01    1871      1    TRO  NaN   1    4   0   0   0  ...   0.0   \n",
      "1        addybo01    1871      1    RC1  NaN  25  118  30  32   6  ...  13.0   \n",
      "2       allisar01    1871      1    CL1  NaN  29  137  28  40   4  ...  19.0   \n",
      "3       allisdo01    1871      1    WS3  NaN  27  133  28  44  10  ...  27.0   \n",
      "4       ansonca01    1871      1    RC1  NaN  25  120  29  39  11  ...  16.0   \n",
      "...           ...     ...    ...    ...  ...  ..  ...  ..  ..  ..  ...   ...   \n",
      "108784  zimmebr02    2020      1    BAL   AL   2    0   0   0   0  ...   0.0   \n",
      "108785  zimmejo02    2020      1    DET   AL   3    0   0   0   0  ...   0.0   \n",
      "108786  zimmeky01    2020      1    KCA   AL  16    0   0   0   0  ...   0.0   \n",
      "108787  zuberty01    2020      1    KCA   AL  23    0   0   0   0  ...   0.0   \n",
      "108788  zuninmi01    2020      1    TBA   AL  28   75   8  11   4  ...  10.0   \n",
      "\n",
      "         SB   CS  BB    SO  IBB  HBP   SH   SF  GIDP  \n",
      "0       0.0  0.0   0   0.0  NaN  NaN  NaN  NaN   0.0  \n",
      "1       8.0  1.0   4   0.0  NaN  NaN  NaN  NaN   0.0  \n",
      "2       3.0  1.0   2   5.0  NaN  NaN  NaN  NaN   1.0  \n",
      "3       1.0  1.0   0   2.0  NaN  NaN  NaN  NaN   0.0  \n",
      "4       6.0  2.0   2   1.0  NaN  NaN  NaN  NaN   0.0  \n",
      "...     ...  ...  ..   ...  ...  ...  ...  ...   ...  \n",
      "108784  0.0  0.0   0   0.0  0.0  0.0  0.0  0.0   0.0  \n",
      "108785  0.0  0.0   0   0.0  0.0  0.0  0.0  0.0   0.0  \n",
      "108786  0.0  0.0   0   0.0  0.0  0.0  0.0  0.0   0.0  \n",
      "108787  0.0  0.0   0   0.0  0.0  0.0  0.0  0.0   0.0  \n",
      "108788  0.0  0.0   6  37.0  0.0  3.0  0.0  0.0   0.0  \n",
      "\n",
      "[108789 rows x 22 columns]\n"
     ]
    }
   ],
   "source": [
    "import pandas as pd #importing pandas lib\n",
    "import numpy as np\n",
    "\n",
    "Batting = pd.read_csv('/Users/jessicagale/project-group37-project/data/raw/Batting.csv')\n",
    "\n",
    "\n",
    "print(Batting)\n"
   ]
  },
  {
   "cell_type": "code",
   "execution_count": null,
   "id": "505a0844-9071-41a5-a4f9-a7e30b26f817",
   "metadata": {},
   "outputs": [],
   "source": []
  }
 ],
 "metadata": {
  "kernelspec": {
   "display_name": "Python 3",
   "language": "python",
   "name": "python3"
  },
  "language_info": {
   "codemirror_mode": {
    "name": "ipython",
    "version": 3
   },
   "file_extension": ".py",
   "mimetype": "text/x-python",
   "name": "python",
   "nbconvert_exporter": "python",
   "pygments_lexer": "ipython3",
   "version": "3.9.5"
  }
 },
 "nbformat": 4,
 "nbformat_minor": 5
}
